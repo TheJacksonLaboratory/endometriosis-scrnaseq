{
 "cells": [
  {
   "cell_type": "markdown",
   "metadata": {},
   "source": [
    "**This notebook contains codes to generate inputs for CellPhoneDB and prepare the results table from CellPhoneDB**"
   ]
  },
  {
   "cell_type": "code",
   "execution_count": null,
   "metadata": {},
   "outputs": [],
   "source": [
    "import sys\n",
    "sys.path.append(\"../code\")\n",
    "from data_prep.cellphone import export_for_cellphonedb, load_cellphonedb_results, annotate_cellphone_results"
   ]
  },
  {
   "cell_type": "code",
   "execution_count": 1,
   "metadata": {},
   "outputs": [],
   "source": [
    "import scanpy as sc\n",
    "from pathlib import Path\n",
    "import numpy as np\n",
    "import pandas as pd\n",
    "import scrublet as scr\n",
    "\n",
    "import matplotlib\n",
    "import seaborn as sns\n",
    "import matplotlib.pyplot as plt\n",
    "%matplotlib inline\n",
    "sc.settings.verbosity=3"
   ]
  },
  {
   "cell_type": "code",
   "execution_count": 2,
   "metadata": {},
   "outputs": [],
   "source": [
    "main_dir = \"/projects/robson-lab/research/endometriosis/\"\n",
    "sample_id = \"Endometriosis-revision-3\"\n",
    "\n",
    "sc.settings.figdir = f\"{main_dir}figures/{sample_id}\"\n",
    "sc.set_figure_params(dpi=150, color_map='Reds')\n",
    "sns.set_style(\"white\")"
   ]
  },
  {
   "cell_type": "code",
   "execution_count": 3,
   "metadata": {},
   "outputs": [],
   "source": [
    "import sys\n",
    "sys.path.append(\"data_prep\")\n",
    "\n",
    "from cellphone import export_for_cellphonedb"
   ]
  },
  {
   "cell_type": "code",
   "execution_count": 4,
   "metadata": {},
   "outputs": [],
   "source": [
    "#main_cluster = sc.read(f\"{main_dir}data/h5ad/{sample_id}/{sample_id}-scrubs-clean-final-20211118.h5ad\")"
   ]
  },
  {
   "cell_type": "code",
   "execution_count": 4,
   "metadata": {},
   "outputs": [],
   "source": [
    "#load adatas\n",
    "mye = sc.read(f\"{main_dir}/data/h5ad/{sample_id}/Myeloid/{sample_id}-mye-final-cc-20220105.h5ad\")\n",
    "lym = sc.read(f\"{main_dir}/data/h5ad/{sample_id}/TNK/{sample_id}-lym-final-cc-20220105.h5ad\")\n",
    "epi = sc.read(f\"{main_dir}/data/h5ad/{sample_id}/Epithelial/{sample_id}-epi-final-cc-20220119.h5ad\")\n",
    "stro = sc.read(f\"{main_dir}/data/h5ad/{sample_id}/Stromal/{sample_id}-stro-final-cc-20220105.h5ad\")\n",
    "endo = sc.read(f\"{main_dir}/data/h5ad/{sample_id}/Endothelial/{sample_id}-endo-final-cc-20220105.h5ad\")\n",
    "\n",
    "#combined all data\n",
    "adatas = mye.concatenate([lym, epi, stro, endo])"
   ]
  },
  {
   "cell_type": "code",
   "execution_count": 5,
   "metadata": {},
   "outputs": [],
   "source": [
    "#create cellphoneDB inputs\n",
    "export_for_cellphonedb(adatas,outdir = f\"{main_dir}analysis/{sample_id}/cellphone/all-celltypes-2\",\n",
    "                      celltype_key=\"subtypes\",\n",
    "                      partition_key=\"sampleid\", partition_prefix=\"\",\n",
    "                      use_raw = False, layer= \"raw\"\n",
    "                      )"
   ]
  },
  {
   "cell_type": "markdown",
   "metadata": {},
   "source": [
    "---\n",
    "_run cellphoneDB on terminal, in the dir where the output will be saved_\n",
    "\n",
    "```\n",
    "for d in $(find * -type f -name \"*_counts.txt\"); do \n",
    "    sbatch /projects/robson-lab/research/endometriosis/notebooks/EC19001-EC20015/scripts/run_cellphonedb.sbatch ${d%_*}; \n",
    "    done\n",
    "```\n",
    "_once finished, load in the results_\n",
    "\n",
    "this takes about 9 hours\n",
    "\n",
    "---"
   ]
  },
  {
   "cell_type": "code",
   "execution_count": 7,
   "metadata": {},
   "outputs": [],
   "source": [
    "results = load_cellphonedb_results(adatas, results_dir = f\"{main_dir}analysis/{sample_id}/cellphone/all-celltypes-2\",\n",
    "                                   partition_key=\"sampleid\", partition_prefix=\"\", use_raw=False, layer=\"raw\")\n",
    "ann_results = annotate_cellphone_results(results)"
   ]
  },
  {
   "cell_type": "code",
   "execution_count": null,
   "metadata": {},
   "outputs": [],
   "source": [
    "results.to_csv(f\"{main_dir}/analysis/{sample_id}/cellphone/all-celltypes-2/annotated_results_20220125.csv\")"
   ]
  },
  {
   "cell_type": "markdown",
   "metadata": {},
   "source": [
    "--- End of process --"
   ]
  }
 ],
 "metadata": {
  "kernelspec": {
   "display_name": "Python 3",
   "language": "python",
   "name": "python3"
  },
  "language_info": {
   "codemirror_mode": {
    "name": "ipython",
    "version": 3
   },
   "file_extension": ".py",
   "mimetype": "text/x-python",
   "name": "python",
   "nbconvert_exporter": "python",
   "pygments_lexer": "ipython3",
   "version": "3.8.6"
  }
 },
 "nbformat": 4,
 "nbformat_minor": 4
}
