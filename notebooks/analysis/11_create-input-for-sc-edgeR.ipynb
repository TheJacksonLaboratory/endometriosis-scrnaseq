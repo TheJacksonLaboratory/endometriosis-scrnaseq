{
 "cells": [
  {
   "cell_type": "code",
   "execution_count": 1,
   "metadata": {},
   "outputs": [],
   "source": [
    "import scanpy as sc\n",
    "from pathlib import Path\n",
    "import numpy as np\n",
    "import pandas as pd"
   ]
  },
  {
   "cell_type": "code",
   "execution_count": 2,
   "metadata": {},
   "outputs": [],
   "source": [
    "main_dir = \"/projects/robson-lab/research/endometriosis/\"\n",
    "sample_id = \"Endometriosis-revision-3\""
   ]
  },
  {
   "cell_type": "code",
   "execution_count": 3,
   "metadata": {},
   "outputs": [],
   "source": [
    "#load in dataset\n",
    "mye = sc.read(f\"{main_dir}/data/h5ad/{sample_id}/Myeloid/{sample_id}-mye-final-cc-20220105.h5ad\")\n",
    "lym = sc.read(f\"{main_dir}/data/h5ad/{sample_id}/TNK/{sample_id}-lym-final-cc-20220105.h5ad\")\n",
    "epi = sc.read(f\"{main_dir}/data/h5ad/{sample_id}/Epithelial/{sample_id}-epi-final-cc-20220119.h5ad\")\n",
    "stro = sc.read(f\"{main_dir}/data/h5ad/{sample_id}/Stromal/{sample_id}-stro-final-cc-20220105.h5ad\")\n",
    "endo = sc.read(f\"{main_dir}/data/h5ad/{sample_id}/Endothelial/{sample_id}-endo-final-cc-20220105.h5ad\")"
   ]
  },
  {
   "cell_type": "code",
   "execution_count": 4,
   "metadata": {},
   "outputs": [],
   "source": [
    "lym.obs[\"subtypes\"] = lym.obs.subtypes.map({\n",
    "    \"T$_{EM}$\": \"Tem\",\n",
    "    \"CD8 T$_{RM}$\":\"CD8Trm\",\n",
    "    \"CD4 T$_{RM}$\":\"CD4Trm\",\n",
    "    \"T$_N$/T$_{CM}$\":\"Tncm\",\n",
    "    \"T$_{Reg}$\":\"Treg\",\n",
    "    \"NK1\":\"NK1\",\n",
    "    \"NK2\":\"NK2\",\n",
    "    \"NK3\":\"NK3\",\n",
    "    \"pNK\":\"pNK\",\n",
    "    \"CTL\":\"CTL\",\n",
    "    \"CD8 MAIT\":\"CD8 MAIT\",\n",
    "    \"plasma\":\"plasma\",\n",
    "    \"B cell\":\"B cell\",\n",
    "    \"ILC\":\"ILC\"\n",
    "})\n",
    "\n",
    "mye.obs[\"subtypes\"] = mye.obs.subtypes.map({\n",
    "    \"monocytes-CD16-\":\"mono (CD16-)\",\n",
    "    \"M$\\Phi$4-infiltrated\":\"M4\",\n",
    "    \"M$\\Phi$1-LYVE1\":\"M1\",\n",
    "    \"cDC2\":\"cDC2\",\n",
    "    \"M$\\Phi$3-APOE\":\"M3\",\n",
    "    \"M$\\Phi$5-activated\":\"M5\",\n",
    "    \"pre-cDC2\":\"precDC2\",\n",
    "    \"monocytes-CD16+\":\"mono (CD16+)\",\n",
    "    \"mast cells\":\"mast cells\",\n",
    "    \"DC3\":\"DC3\",\n",
    "    \"M$\\Phi$2-peritoneal\":\"M2\",\n",
    "    \"cDC1\":\"cDC1\",\n",
    "    \"mDC\":\"mDC\",\n",
    "    \"pDC\":\"pDC\",\n",
    "    \"granulocytes\":\"granulocytes\",\n",
    "})"
   ]
  },
  {
   "cell_type": "code",
   "execution_count": 5,
   "metadata": {},
   "outputs": [
    {
     "name": "stderr",
     "output_type": "stream",
     "text": [
      "/home/tany/.conda/envs/endometriosis/lib/python3.8/site-packages/pandas/core/arrays/categorical.py:2487: FutureWarning: The `inplace` parameter in pandas.Categorical.remove_unused_categories is deprecated and will be removed in a future version.\n",
      "  res = method(*args, **kwargs)\n"
     ]
    }
   ],
   "source": [
    "#adatas = [mye, lym, epi, stro, endo]\n",
    "adatas = [epi]\n",
    "for adata in adatas:\n",
    "    subtypes_list = (adata.obs.subtypes.value_counts() > 500).to_frame(\"min500cells\")\n",
    "    subset_to_keep = subtypes_list[subtypes_list.min500cells == True].index.tolist()\n",
    "    subset = adata[adata.obs.subtypes.isin(subset_to_keep)].copy()\n",
    "    N = len(subset_to_keep)\n",
    "    \n",
    "    sub_dir = \"DEG/edgeR-input\"\n",
    "    output_dir = f\"{main_dir}analysis/{sample_id}/{sub_dir}\"\n",
    "    \n",
    "    for item in range(0,N):\n",
    "        dataset = subset[subset.obs.subtypes == subset_to_keep[item]]\n",
    "        counts_matrix = pd.DataFrame(dataset.layers[\"raw\"].todense(), \n",
    "                                     index=dataset.obs_names,columns=dataset.var_names).T\n",
    "        metadata = dataset.obs.sample_type_rename.to_frame(\"group\")\n",
    "\n",
    "        #export data\n",
    "        metadata.to_csv(f\"{output_dir}/{subset_to_keep[item]}-metadata.csv\")\n",
    "        counts_matrix.to_csv(f\"{output_dir}/{subset_to_keep[item]}-counts.csv\")"
   ]
  },
  {
   "cell_type": "code",
   "execution_count": 9,
   "metadata": {},
   "outputs": [],
   "source": [
    "adatas = [mye, lym, epi, stro, endo]\n",
    "subtypes = []\n",
    "for adata in adatas:\n",
    "    subtypes_list = (adata.obs.subtypes.value_counts() > 500).to_frame(\"min500cells\")\n",
    "    subset_to_keep = subtypes_list[subtypes_list.min500cells == True].index.tolist()\n",
    "    subtypes+=subset_to_keep\n",
    "\n",
    "\n",
    "sub_dir = \"DEG/edgeR-input/\"\n",
    "output_dir = f\"{main_dir}analysis/{sample_id}/{sub_dir}\"\n",
    "pd.DataFrame(subtypes,columns=[\"0\"]).to_csv(f\"{output_dir}/subtypelist.csv\")"
   ]
  },
  {
   "cell_type": "markdown",
   "metadata": {},
   "source": [
    "---"
   ]
  }
 ],
 "metadata": {
  "kernelspec": {
   "display_name": "Python 3",
   "language": "python",
   "name": "python3"
  },
  "language_info": {
   "codemirror_mode": {
    "name": "ipython",
    "version": 3
   },
   "file_extension": ".py",
   "mimetype": "text/x-python",
   "name": "python",
   "nbconvert_exporter": "python",
   "pygments_lexer": "ipython3",
   "version": "3.8.6"
  }
 },
 "nbformat": 4,
 "nbformat_minor": 4
}
