{
 "cells": [
  {
   "cell_type": "markdown",
   "metadata": {},
   "source": [
    "### Analysis of Differentially Expressed Genes between bulk and single-cell datasets\n",
    "Discover cell types that might be missing in single-cell datasets."
   ]
  },
  {
   "cell_type": "code",
   "execution_count": 1,
   "metadata": {},
   "outputs": [
    {
     "name": "stderr",
     "output_type": "stream",
     "text": [
      "Loading required package: limma\n",
      "\n"
     ]
    }
   ],
   "source": [
    "library(edgeR)"
   ]
  },
  {
   "cell_type": "code",
   "execution_count": 2,
   "metadata": {},
   "outputs": [],
   "source": [
    "main_dir <- \"/projects/robson-lab/research/endometriosis/\"\n",
    "sample_id <- \"Endometriosis-revision-3\"\n",
    "data_dir <- \"DEG/edgeR-input\"\n",
    "setwd(main_dir)"
   ]
  },
  {
   "cell_type": "code",
   "execution_count": 3,
   "metadata": {},
   "outputs": [
    {
     "data": {
      "text/html": [
       "'/pod/2/robson-lab/research/endometriosis'"
      ],
      "text/latex": [
       "'/pod/2/robson-lab/research/endometriosis'"
      ],
      "text/markdown": [
       "'/pod/2/robson-lab/research/endometriosis'"
      ],
      "text/plain": [
       "[1] \"/pod/2/robson-lab/research/endometriosis\""
      ]
     },
     "metadata": {},
     "output_type": "display_data"
    }
   ],
   "source": [
    "getwd()"
   ]
  },
  {
   "cell_type": "markdown",
   "metadata": {},
   "source": [
    "**Load Data**\n",
    "<br>load matrices containing cpm counts from RNAseq experiments and associated metadata"
   ]
  },
  {
   "cell_type": "code",
   "execution_count": 4,
   "metadata": {},
   "outputs": [],
   "source": [
    "sc_matrix <- read.delim(paste(\"data/bulkRNAseq/\",sample_id,\"-sc_pseudo-bulk_CPM.txt\", sep=\"\"), sep=\"\\t\")\n",
    "bs_matrix <- read.delim(paste(\"data/bulkRNAseq/bulk_cpm_20210719.txt\", sep=\"\"), sep=\"\\t\")\n",
    "metadata <- read.delim(paste(\"data/bulkRNAseq/\",sample_id,\"-combined_metadata.txt\", sep=\"\"))"
   ]
  },
  {
   "cell_type": "code",
   "execution_count": 5,
   "metadata": {},
   "outputs": [
    {
     "data": {
      "text/html": [
       "<style>\n",
       ".list-inline {list-style: none; margin:0; padding: 0}\n",
       ".list-inline>li {display: inline-block}\n",
       ".list-inline>li:not(:last-child)::after {content: \"\\00b7\"; padding: 0 .5ex}\n",
       "</style>\n",
       "<ol class=list-inline><li>26636</li><li>32</li></ol>\n"
      ],
      "text/latex": [
       "\\begin{enumerate*}\n",
       "\\item 26636\n",
       "\\item 32\n",
       "\\end{enumerate*}\n"
      ],
      "text/markdown": [
       "1. 26636\n",
       "2. 32\n",
       "\n",
       "\n"
      ],
      "text/plain": [
       "[1] 26636    32"
      ]
     },
     "metadata": {},
     "output_type": "display_data"
    },
    {
     "data": {
      "text/html": [
       "<style>\n",
       ".list-inline {list-style: none; margin:0; padding: 0}\n",
       ".list-inline>li {display: inline-block}\n",
       ".list-inline>li:not(:last-child)::after {content: \"\\00b7\"; padding: 0 .5ex}\n",
       "</style>\n",
       "<ol class=list-inline><li>33538</li><li>25</li></ol>\n"
      ],
      "text/latex": [
       "\\begin{enumerate*}\n",
       "\\item 33538\n",
       "\\item 25\n",
       "\\end{enumerate*}\n"
      ],
      "text/markdown": [
       "1. 33538\n",
       "2. 25\n",
       "\n",
       "\n"
      ],
      "text/plain": [
       "[1] 33538    25"
      ]
     },
     "metadata": {},
     "output_type": "display_data"
    }
   ],
   "source": [
    "dim(sc_matrix)\n",
    "dim(bs_matrix)"
   ]
  },
  {
   "cell_type": "markdown",
   "metadata": {},
   "source": [
    "#### DEG on Eutopic tissue vs sc-pseudo-bulk data\n",
    "**Create Eutopic Matrix**"
   ]
  },
  {
   "cell_type": "code",
   "execution_count": 6,
   "metadata": {},
   "outputs": [],
   "source": [
    "Eutopic <- metadata[metadata$sample_type %in% c(\"EuE\",\"EuC\"),]\n",
    "Eutopic[,\"X\"] <- sapply(Eutopic[,\"X\"], as.character)"
   ]
  },
  {
   "cell_type": "code",
   "execution_count": 7,
   "metadata": {
    "collapsed": true,
    "jupyter": {
     "outputs_hidden": true
    }
   },
   "outputs": [
    {
     "data": {
      "text/html": [
       "<table>\n",
       "<caption>A data.frame: 24 x 4</caption>\n",
       "<thead>\n",
       "\t<tr><th></th><th scope=col>X</th><th scope=col>method</th><th scope=col>sample_type</th><th scope=col>patient_id</th></tr>\n",
       "\t<tr><th></th><th scope=col>&lt;chr&gt;</th><th scope=col>&lt;fct&gt;</th><th scope=col>&lt;fct&gt;</th><th scope=col>&lt;int&gt;</th></tr>\n",
       "</thead>\n",
       "<tbody>\n",
       "\t<tr><th scope=row>1</th><td>EC19001</td><td>single_cell    </td><td>EuE</td><td>  4</td></tr>\n",
       "\t<tr><th scope=row>4</th><td>EC19004</td><td>single_cell    </td><td>EuE</td><td>  5</td></tr>\n",
       "\t<tr><th scope=row>7</th><td>EC19007</td><td>single_cell    </td><td>EuE</td><td>  6</td></tr>\n",
       "\t<tr><th scope=row>10</th><td>EC19010</td><td>single_cell    </td><td>EuE</td><td>  8</td></tr>\n",
       "\t<tr><th scope=row>13</th><td>EC19016</td><td>single_cell    </td><td>EuE</td><td> 10</td></tr>\n",
       "\t<tr><th scope=row>16</th><td>EC19019</td><td>single_cell    </td><td>EuE</td><td> 11</td></tr>\n",
       "\t<tr><th scope=row>18</th><td>EC20001</td><td>single_cell    </td><td>EuC</td><td>795</td></tr>\n",
       "\t<tr><th scope=row>19</th><td>EC20002</td><td>single_cell    </td><td>EuE</td><td> 13</td></tr>\n",
       "\t<tr><th scope=row>22</th><td>EC20005</td><td>single_cell    </td><td>EuE</td><td> 14</td></tr>\n",
       "\t<tr><th scope=row>23</th><td>EC20009</td><td>single_cell    </td><td>EuE</td><td> 15</td></tr>\n",
       "\t<tr><th scope=row>28</th><td>EC20014</td><td>single_cell    </td><td>EuC</td><td> 17</td></tr>\n",
       "\t<tr><th scope=row>29</th><td>EC20015</td><td>single_cell    </td><td>EuC</td><td> 19</td></tr>\n",
       "\t<tr><th scope=row>32</th><td>BS001  </td><td>bulk_sequencing</td><td>EuE</td><td>  6</td></tr>\n",
       "\t<tr><th scope=row>35</th><td>BS004  </td><td>bulk_sequencing</td><td>EuE</td><td> 13</td></tr>\n",
       "\t<tr><th scope=row>36</th><td>BS005  </td><td>bulk_sequencing</td><td>EuE</td><td> 15</td></tr>\n",
       "\t<tr><th scope=row>38</th><td>BS007  </td><td>bulk_sequencing</td><td>EuE</td><td> 16</td></tr>\n",
       "\t<tr><th scope=row>40</th><td>BS009  </td><td>bulk_sequencing</td><td>EuC</td><td> 17</td></tr>\n",
       "\t<tr><th scope=row>43</th><td>BS012  </td><td>bulk_sequencing</td><td>EuC</td><td> 20</td></tr>\n",
       "\t<tr><th scope=row>44</th><td>BS013  </td><td>bulk_sequencing</td><td>EuE</td><td> 27</td></tr>\n",
       "\t<tr><th scope=row>45</th><td>BS014  </td><td>bulk_sequencing</td><td>EuC</td><td> 28</td></tr>\n",
       "\t<tr><th scope=row>49</th><td>BS018  </td><td>bulk_sequencing</td><td>EuE</td><td> 24</td></tr>\n",
       "\t<tr><th scope=row>50</th><td>BS019  </td><td>bulk_sequencing</td><td>EuE</td><td> 23</td></tr>\n",
       "\t<tr><th scope=row>51</th><td>BS020  </td><td>bulk_sequencing</td><td>EuC</td><td> 26</td></tr>\n",
       "\t<tr><th scope=row>55</th><td>BS024  </td><td>bulk_sequencing</td><td>EuC</td><td> 25</td></tr>\n",
       "</tbody>\n",
       "</table>\n"
      ],
      "text/latex": [
       "A data.frame: 24 x 4\n",
       "\\begin{tabular}{r|llll}\n",
       "  & X & method & sample\\_type & patient\\_id\\\\\n",
       "  & <chr> & <fct> & <fct> & <int>\\\\\n",
       "\\hline\n",
       "\t1 & EC19001 & single\\_cell     & EuE &   4\\\\\n",
       "\t4 & EC19004 & single\\_cell     & EuE &   5\\\\\n",
       "\t7 & EC19007 & single\\_cell     & EuE &   6\\\\\n",
       "\t10 & EC19010 & single\\_cell     & EuE &   8\\\\\n",
       "\t13 & EC19016 & single\\_cell     & EuE &  10\\\\\n",
       "\t16 & EC19019 & single\\_cell     & EuE &  11\\\\\n",
       "\t18 & EC20001 & single\\_cell     & EuC & 795\\\\\n",
       "\t19 & EC20002 & single\\_cell     & EuE &  13\\\\\n",
       "\t22 & EC20005 & single\\_cell     & EuE &  14\\\\\n",
       "\t23 & EC20009 & single\\_cell     & EuE &  15\\\\\n",
       "\t28 & EC20014 & single\\_cell     & EuC &  17\\\\\n",
       "\t29 & EC20015 & single\\_cell     & EuC &  19\\\\\n",
       "\t32 & BS001   & bulk\\_sequencing & EuE &   6\\\\\n",
       "\t35 & BS004   & bulk\\_sequencing & EuE &  13\\\\\n",
       "\t36 & BS005   & bulk\\_sequencing & EuE &  15\\\\\n",
       "\t38 & BS007   & bulk\\_sequencing & EuE &  16\\\\\n",
       "\t40 & BS009   & bulk\\_sequencing & EuC &  17\\\\\n",
       "\t43 & BS012   & bulk\\_sequencing & EuC &  20\\\\\n",
       "\t44 & BS013   & bulk\\_sequencing & EuE &  27\\\\\n",
       "\t45 & BS014   & bulk\\_sequencing & EuC &  28\\\\\n",
       "\t49 & BS018   & bulk\\_sequencing & EuE &  24\\\\\n",
       "\t50 & BS019   & bulk\\_sequencing & EuE &  23\\\\\n",
       "\t51 & BS020   & bulk\\_sequencing & EuC &  26\\\\\n",
       "\t55 & BS024   & bulk\\_sequencing & EuC &  25\\\\\n",
       "\\end{tabular}\n"
      ],
      "text/markdown": [
       "\n",
       "A data.frame: 24 x 4\n",
       "\n",
       "| <!--/--> | X &lt;chr&gt; | method &lt;fct&gt; | sample_type &lt;fct&gt; | patient_id &lt;int&gt; |\n",
       "|---|---|---|---|---|\n",
       "| 1 | EC19001 | single_cell     | EuE |   4 |\n",
       "| 4 | EC19004 | single_cell     | EuE |   5 |\n",
       "| 7 | EC19007 | single_cell     | EuE |   6 |\n",
       "| 10 | EC19010 | single_cell     | EuE |   8 |\n",
       "| 13 | EC19016 | single_cell     | EuE |  10 |\n",
       "| 16 | EC19019 | single_cell     | EuE |  11 |\n",
       "| 18 | EC20001 | single_cell     | EuC | 795 |\n",
       "| 19 | EC20002 | single_cell     | EuE |  13 |\n",
       "| 22 | EC20005 | single_cell     | EuE |  14 |\n",
       "| 23 | EC20009 | single_cell     | EuE |  15 |\n",
       "| 28 | EC20014 | single_cell     | EuC |  17 |\n",
       "| 29 | EC20015 | single_cell     | EuC |  19 |\n",
       "| 32 | BS001   | bulk_sequencing | EuE |   6 |\n",
       "| 35 | BS004   | bulk_sequencing | EuE |  13 |\n",
       "| 36 | BS005   | bulk_sequencing | EuE |  15 |\n",
       "| 38 | BS007   | bulk_sequencing | EuE |  16 |\n",
       "| 40 | BS009   | bulk_sequencing | EuC |  17 |\n",
       "| 43 | BS012   | bulk_sequencing | EuC |  20 |\n",
       "| 44 | BS013   | bulk_sequencing | EuE |  27 |\n",
       "| 45 | BS014   | bulk_sequencing | EuC |  28 |\n",
       "| 49 | BS018   | bulk_sequencing | EuE |  24 |\n",
       "| 50 | BS019   | bulk_sequencing | EuE |  23 |\n",
       "| 51 | BS020   | bulk_sequencing | EuC |  26 |\n",
       "| 55 | BS024   | bulk_sequencing | EuC |  25 |\n",
       "\n"
      ],
      "text/plain": [
       "   X       method          sample_type patient_id\n",
       "1  EC19001 single_cell     EuE           4       \n",
       "4  EC19004 single_cell     EuE           5       \n",
       "7  EC19007 single_cell     EuE           6       \n",
       "10 EC19010 single_cell     EuE           8       \n",
       "13 EC19016 single_cell     EuE          10       \n",
       "16 EC19019 single_cell     EuE          11       \n",
       "18 EC20001 single_cell     EuC         795       \n",
       "19 EC20002 single_cell     EuE          13       \n",
       "22 EC20005 single_cell     EuE          14       \n",
       "23 EC20009 single_cell     EuE          15       \n",
       "28 EC20014 single_cell     EuC          17       \n",
       "29 EC20015 single_cell     EuC          19       \n",
       "32 BS001   bulk_sequencing EuE           6       \n",
       "35 BS004   bulk_sequencing EuE          13       \n",
       "36 BS005   bulk_sequencing EuE          15       \n",
       "38 BS007   bulk_sequencing EuE          16       \n",
       "40 BS009   bulk_sequencing EuC          17       \n",
       "43 BS012   bulk_sequencing EuC          20       \n",
       "44 BS013   bulk_sequencing EuE          27       \n",
       "45 BS014   bulk_sequencing EuC          28       \n",
       "49 BS018   bulk_sequencing EuE          24       \n",
       "50 BS019   bulk_sequencing EuE          23       \n",
       "51 BS020   bulk_sequencing EuC          26       \n",
       "55 BS024   bulk_sequencing EuC          25       "
      ]
     },
     "metadata": {},
     "output_type": "display_data"
    }
   ],
   "source": [
    "Eutopic"
   ]
  },
  {
   "cell_type": "code",
   "execution_count": 8,
   "metadata": {},
   "outputs": [
    {
     "data": {
      "text/html": [
       "<style>\n",
       ".list-inline {list-style: none; margin:0; padding: 0}\n",
       ".list-inline>li {display: inline-block}\n",
       ".list-inline>li:not(:last-child)::after {content: \"\\00b7\"; padding: 0 .5ex}\n",
       "</style>\n",
       "<ol class=list-inline><li>26638</li><li>25</li></ol>\n"
      ],
      "text/latex": [
       "\\begin{enumerate*}\n",
       "\\item 26638\n",
       "\\item 25\n",
       "\\end{enumerate*}\n"
      ],
      "text/markdown": [
       "1. 26638\n",
       "2. 25\n",
       "\n",
       "\n"
      ],
      "text/plain": [
       "[1] 26638    25"
      ]
     },
     "metadata": {},
     "output_type": "display_data"
    }
   ],
   "source": [
    "sc_Eut <- sc_matrix[,(colnames(sc_matrix)) %in% c(\"index\", Eutopic$X)]\n",
    "bs_Eut <- bs_matrix[,(colnames(bs_matrix)) %in% c(\"gene_name\", Eutopic$X)]\n",
    "eut_matrix <- merge(x = sc_Eut, y = bs_Eut, by.x = \"index\", by.y=\"gene_name\")\n",
    "\n",
    "dim(eut_matrix)"
   ]
  },
  {
   "cell_type": "markdown",
   "metadata": {},
   "source": [
    "**Run EdgeR**"
   ]
  },
  {
   "cell_type": "code",
   "execution_count": 10,
   "metadata": {},
   "outputs": [],
   "source": [
    "groups <- factor(Eutopic$method)"
   ]
  },
  {
   "cell_type": "code",
   "execution_count": 11,
   "metadata": {},
   "outputs": [
    {
     "data": {
      "text/html": [
       "<style>\n",
       ".list-inline {list-style: none; margin:0; padding: 0}\n",
       ".list-inline>li {display: inline-block}\n",
       ".list-inline>li:not(:last-child)::after {content: \"\\00b7\"; padding: 0 .5ex}\n",
       "</style>\n",
       "<ol class=list-inline><li>single_cell</li><li>single_cell</li><li>single_cell</li><li>single_cell</li><li>single_cell</li><li>single_cell</li><li>single_cell</li><li>single_cell</li><li>single_cell</li><li>single_cell</li><li>single_cell</li><li>single_cell</li><li>bulk_sequencing</li><li>bulk_sequencing</li><li>bulk_sequencing</li><li>bulk_sequencing</li><li>bulk_sequencing</li><li>bulk_sequencing</li><li>bulk_sequencing</li><li>bulk_sequencing</li><li>bulk_sequencing</li><li>bulk_sequencing</li><li>bulk_sequencing</li><li>bulk_sequencing</li></ol>\n",
       "\n",
       "<details>\n",
       "\t<summary style=display:list-item;cursor:pointer>\n",
       "\t\t<strong>Levels</strong>:\n",
       "\t</summary>\n",
       "\t<style>\n",
       "\t.list-inline {list-style: none; margin:0; padding: 0}\n",
       "\t.list-inline>li {display: inline-block}\n",
       "\t.list-inline>li:not(:last-child)::after {content: \"\\00b7\"; padding: 0 .5ex}\n",
       "\t</style>\n",
       "\t<ol class=list-inline><li>'bulk_sequencing'</li><li>'single_cell'</li></ol>\n",
       "</details>"
      ],
      "text/latex": [
       "\\begin{enumerate*}\n",
       "\\item single\\_cell\n",
       "\\item single\\_cell\n",
       "\\item single\\_cell\n",
       "\\item single\\_cell\n",
       "\\item single\\_cell\n",
       "\\item single\\_cell\n",
       "\\item single\\_cell\n",
       "\\item single\\_cell\n",
       "\\item single\\_cell\n",
       "\\item single\\_cell\n",
       "\\item single\\_cell\n",
       "\\item single\\_cell\n",
       "\\item bulk\\_sequencing\n",
       "\\item bulk\\_sequencing\n",
       "\\item bulk\\_sequencing\n",
       "\\item bulk\\_sequencing\n",
       "\\item bulk\\_sequencing\n",
       "\\item bulk\\_sequencing\n",
       "\\item bulk\\_sequencing\n",
       "\\item bulk\\_sequencing\n",
       "\\item bulk\\_sequencing\n",
       "\\item bulk\\_sequencing\n",
       "\\item bulk\\_sequencing\n",
       "\\item bulk\\_sequencing\n",
       "\\end{enumerate*}\n",
       "\n",
       "\\emph{Levels}: \\begin{enumerate*}\n",
       "\\item 'bulk\\_sequencing'\n",
       "\\item 'single\\_cell'\n",
       "\\end{enumerate*}\n"
      ],
      "text/markdown": [
       "1. single_cell\n",
       "2. single_cell\n",
       "3. single_cell\n",
       "4. single_cell\n",
       "5. single_cell\n",
       "6. single_cell\n",
       "7. single_cell\n",
       "8. single_cell\n",
       "9. single_cell\n",
       "10. single_cell\n",
       "11. single_cell\n",
       "12. single_cell\n",
       "13. bulk_sequencing\n",
       "14. bulk_sequencing\n",
       "15. bulk_sequencing\n",
       "16. bulk_sequencing\n",
       "17. bulk_sequencing\n",
       "18. bulk_sequencing\n",
       "19. bulk_sequencing\n",
       "20. bulk_sequencing\n",
       "21. bulk_sequencing\n",
       "22. bulk_sequencing\n",
       "23. bulk_sequencing\n",
       "24. bulk_sequencing\n",
       "\n",
       "\n",
       "\n",
       "**Levels**: 1. 'bulk_sequencing'\n",
       "2. 'single_cell'\n",
       "\n",
       "\n"
      ],
      "text/plain": [
       " [1] single_cell     single_cell     single_cell     single_cell    \n",
       " [5] single_cell     single_cell     single_cell     single_cell    \n",
       " [9] single_cell     single_cell     single_cell     single_cell    \n",
       "[13] bulk_sequencing bulk_sequencing bulk_sequencing bulk_sequencing\n",
       "[17] bulk_sequencing bulk_sequencing bulk_sequencing bulk_sequencing\n",
       "[21] bulk_sequencing bulk_sequencing bulk_sequencing bulk_sequencing\n",
       "Levels: bulk_sequencing single_cell"
      ]
     },
     "metadata": {},
     "output_type": "display_data"
    }
   ],
   "source": [
    "groups"
   ]
  },
  {
   "cell_type": "code",
   "execution_count": 14,
   "metadata": {},
   "outputs": [],
   "source": [
    "cds <- DGEList(counts = as.matrix(eut_matrix[(2:25)]), group = groups,genes = eut_matrix$index)\n",
    "nc <- cpm(cds, normalized.lib.sizes=FALSE)\n",
    "cds <- estimateCommonDisp(cds)\n",
    "cds <- estimateTagwiseDisp(cds)\n",
    "de.tgw <- exactTest(cds, pair=c(\"single_cell\",\"bulk_sequencing\"))\n",
    "diff.dat <- topTags(de.tgw,n=nrow(cds$counts))\n",
    "res <- diff.dat$table\n",
    "file <- paste(\"analysis/\",sample_id,\"/bulkRNAseq/DEG-Eutopic-SCvsBS_20220106.csv\",sep=\"\")\n",
    "#file2 <- paste(\"analysis/\",sample_id,\"/bulkRNAseq/DEG-Top50-SCvsBS.csv\",sep=\"\")\n",
    "write.csv(res[res$FDR < 0.001,],file=file)\n",
    "#write.csv((row.names(res))[0:49],file=file2)"
   ]
  },
  {
   "cell_type": "markdown",
   "metadata": {},
   "source": [
    "---"
   ]
  },
  {
   "cell_type": "markdown",
   "metadata": {},
   "source": [
    "#### DEG on Ectopic Peritoneal tissue vs sc-pseudo-bulk data\n",
    "**Create Ectopic Matrix**"
   ]
  },
  {
   "cell_type": "code",
   "execution_count": 15,
   "metadata": {},
   "outputs": [],
   "source": [
    "Ectopic <- metadata[metadata$sample_type %in% c(\"EcP\",\"EcPA\"),]\n",
    "Ectopic[,\"X\"] <- sapply(Ectopic[,\"X\"], as.character)"
   ]
  },
  {
   "cell_type": "code",
   "execution_count": 16,
   "metadata": {},
   "outputs": [
    {
     "data": {
      "text/html": [
       "<style>\n",
       ".list-inline {list-style: none; margin:0; padding: 0}\n",
       ".list-inline>li {display: inline-block}\n",
       ".list-inline>li:not(:last-child)::after {content: \"\\00b7\"; padding: 0 .5ex}\n",
       "</style>\n",
       "<ol class=list-inline><li>26638</li><li>22</li></ol>\n"
      ],
      "text/latex": [
       "\\begin{enumerate*}\n",
       "\\item 26638\n",
       "\\item 22\n",
       "\\end{enumerate*}\n"
      ],
      "text/markdown": [
       "1. 26638\n",
       "2. 22\n",
       "\n",
       "\n"
      ],
      "text/plain": [
       "[1] 26638    22"
      ]
     },
     "metadata": {},
     "output_type": "display_data"
    }
   ],
   "source": [
    "sc_Ect <- sc_matrix[,(colnames(sc_matrix)) %in% c(\"index\", Ectopic$X)]\n",
    "bs_Ect <- bs_matrix[,(colnames(bs_matrix)) %in% c(\"gene_name\", Ectopic$X)]\n",
    "ect_matrix <- merge(x = sc_Ect, y = bs_Ect, by.x = \"index\", by.y=\"gene_name\")\n",
    "\n",
    "dim(ect_matrix)"
   ]
  },
  {
   "cell_type": "markdown",
   "metadata": {},
   "source": [
    "**Run EdgeR**"
   ]
  },
  {
   "cell_type": "code",
   "execution_count": 17,
   "metadata": {},
   "outputs": [],
   "source": [
    "groups <- factor(Ectopic$method)\n",
    "cds <- DGEList(counts = as.matrix(ect_matrix[(2:22)]), group = groups,genes = ect_matrix$index)\n",
    "nc <- cpm(cds, normalized.lib.sizes=FALSE)\n",
    "cds <- estimateCommonDisp(cds)\n",
    "cds <- estimateTagwiseDisp(cds)\n",
    "de.tgw <- exactTest(cds, pair=c(\"single_cell\",\"bulk_sequencing\"))\n",
    "diff.dat <- topTags(de.tgw,n=nrow(cds$counts))\n",
    "res <- diff.dat$table\n",
    "file <- paste(\"analysis/\",sample_id,\"/bulkRNAseq/DEG-Ectopic-SCvsBS_20220106.csv\",sep=\"\")\n",
    "#file2 <- paste(\"analysis/\",sample_id,\"/bulkRNAseq/DEG-Top50-SCvsBS.csv\",sep=\"\")\n",
    "write.csv(res[res$FDR < 0.001,],file=file)\n",
    "#write.csv((row.names(res))[0:49],file=file2)"
   ]
  },
  {
   "cell_type": "code",
   "execution_count": null,
   "metadata": {},
   "outputs": [],
   "source": []
  },
  {
   "cell_type": "markdown",
   "metadata": {},
   "source": [
    "---"
   ]
  },
  {
   "cell_type": "markdown",
   "metadata": {},
   "source": [
    "#### DEG on Ectopic Ovary vs sc-pseudo-bulk data\n",
    "**Create Ectopic Ovary Matrix**"
   ]
  },
  {
   "cell_type": "code",
   "execution_count": 18,
   "metadata": {},
   "outputs": [],
   "source": [
    "Ovary <- metadata[metadata$sample_type %in% c(\"EcO\"),]\n",
    "Ovary[,\"X\"] <- sapply(Ovary[,\"X\"], as.character)"
   ]
  },
  {
   "cell_type": "code",
   "execution_count": 19,
   "metadata": {},
   "outputs": [
    {
     "data": {
      "text/html": [
       "<style>\n",
       ".list-inline {list-style: none; margin:0; padding: 0}\n",
       ".list-inline>li {display: inline-block}\n",
       ".list-inline>li:not(:last-child)::after {content: \"\\00b7\"; padding: 0 .5ex}\n",
       "</style>\n",
       "<ol class=list-inline><li>26638</li><li>11</li></ol>\n"
      ],
      "text/latex": [
       "\\begin{enumerate*}\n",
       "\\item 26638\n",
       "\\item 11\n",
       "\\end{enumerate*}\n"
      ],
      "text/markdown": [
       "1. 26638\n",
       "2. 11\n",
       "\n",
       "\n"
      ],
      "text/plain": [
       "[1] 26638    11"
      ]
     },
     "metadata": {},
     "output_type": "display_data"
    }
   ],
   "source": [
    "sc_Ect <- sc_matrix[,(colnames(sc_matrix)) %in% c(\"index\", Ovary$X)]\n",
    "bs_Ect <- bs_matrix[,(colnames(bs_matrix)) %in% c(\"gene_name\", Ovary$X)]\n",
    "ovr_matrix <- merge(x = sc_Ect, y = bs_Ect, by.x = \"index\", by.y=\"gene_name\")\n",
    "\n",
    "dim(ovr_matrix)"
   ]
  },
  {
   "cell_type": "markdown",
   "metadata": {},
   "source": [
    "**Run EdgeR**"
   ]
  },
  {
   "cell_type": "code",
   "execution_count": 20,
   "metadata": {},
   "outputs": [],
   "source": [
    "groups <- factor(Ovary$method)\n",
    "cds <- DGEList(counts = as.matrix(ovr_matrix[(2:11)]), group = groups,genes = ovr_matrix$index)\n",
    "nc <- cpm(cds, normalized.lib.sizes=FALSE)\n",
    "cds <- estimateCommonDisp(cds)\n",
    "cds <- estimateTagwiseDisp(cds)\n",
    "de.tgw <- exactTest(cds, pair=c(\"single_cell\",\"bulk_sequencing\"))\n",
    "diff.dat <- topTags(de.tgw,n=nrow(cds$counts))\n",
    "res <- diff.dat$table\n",
    "file <- paste(\"analysis/\",sample_id,\"/bulkRNAseq/DEG-Ovary-SCvsBS_20220106.csv\",sep=\"\")\n",
    "#file2 <- paste(\"analysis/\",sample_id,\"/bulkRNAseq/DEG-Top50-SCvsBS.csv\",sep=\"\")\n",
    "write.csv(res[res$FDR < 0.001,],file=file)\n",
    "#write.csv((row.names(res))[0:49],file=file2)"
   ]
  },
  {
   "cell_type": "code",
   "execution_count": null,
   "metadata": {},
   "outputs": [],
   "source": []
  },
  {
   "cell_type": "markdown",
   "metadata": {},
   "source": [
    "---"
   ]
  }
 ],
 "metadata": {
  "kernelspec": {
   "display_name": "R [conda env:r-env]",
   "language": "R",
   "name": "conda-env-r-env-r"
  },
  "language_info": {
   "codemirror_mode": "r",
   "file_extension": ".r",
   "mimetype": "text/x-r-source",
   "name": "R",
   "pygments_lexer": "r",
   "version": "3.6.2"
  }
 },
 "nbformat": 4,
 "nbformat_minor": 4
}
